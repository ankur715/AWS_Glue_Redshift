{
	"metadata": {
		"kernelspec": {
			"name": "glue_pyspark",
			"display_name": "Glue PySpark",
			"language": "python"
		},
		"language_info": {
			"name": "Python_Glue_Session",
			"mimetype": "text/x-python",
			"codemirror_mode": {
				"name": "python",
				"version": 3
			},
			"pygments_lexer": "python3",
			"file_extension": ".py"
		}
	},
	"nbformat_minor": 4,
	"nbformat": 4,
	"cells": [
		{
			"cell_type": "code",
			"source": "import pandas as pd",
			"metadata": {
				"trusted": true,
				"tags": []
			},
			"execution_count": 3,
			"outputs": [
				{
					"name": "stdout",
					"text": "\n",
					"output_type": "stream"
				}
			]
		},
		{
			"cell_type": "code",
			"source": "sales_records = pd.read_csv(\"s3://forever21etl/sales-records.csv\")\nsales_records.shape",
			"metadata": {
				"trusted": true,
				"tags": []
			},
			"execution_count": 4,
			"outputs": [
				{
					"name": "stdout",
					"text": "(5000, 15)\n",
					"output_type": "stream"
				}
			]
		},
		{
			"cell_type": "code",
			"source": "sales_records.columns",
			"metadata": {
				"trusted": true,
				"tags": []
			},
			"execution_count": 5,
			"outputs": [
				{
					"name": "stdout",
					"text": "Index(['ID', 'Region', 'Country', 'Item_Type', 'Sales_Channel',\n       'Order_Priority', 'Order_Date', 'Order_ID', 'Ship_Date', 'Units_Sold',\n       'Unit_Price', 'Unit_Cost', 'Total_Revenue', 'Total_Cost',\n       'Total_Profit'],\n      dtype='object')\n",
					"output_type": "stream"
				}
			]
		},
		{
			"cell_type": "code",
			"source": "sales_records.dtypes",
			"metadata": {
				"trusted": true,
				"tags": []
			},
			"execution_count": 19,
			"outputs": [
				{
					"name": "stdout",
					"text": "ID                  int64\nRegion             object\nCountry            object\nItem_Type          object\nSales_Channel      object\nOrder_Priority     object\nOrder_Date         object\nOrder_ID            int64\nShip_Date          object\nUnits_Sold          int64\nUnit_Price        float64\nUnit_Cost         float64\nTotal_Revenue     float64\nTotal_Cost        float64\nTotal_Profit      float64\ndtype: object\n",
					"output_type": "stream"
				}
			]
		},
		{
			"cell_type": "code",
			"source": "sales_records.groupby(\"Country\", as_index=False)[\"Total_Revenue\"].mean().sort_values(by=\"Total_Revenue\", ascending=False)[:5]",
			"metadata": {
				"trusted": true,
				"tags": []
			},
			"execution_count": 14,
			"outputs": [
				{
					"name": "stdout",
					"text": "         Country  Total_Revenue\n133       Rwanda   2.013291e+06\n68         India   1.909750e+06\n128     Portugal   1.886888e+06\n152  South Sudan   1.883306e+06\n26        Canada   1.844963e+06\n",
					"output_type": "stream"
				}
			]
		},
		{
			"cell_type": "code",
			"source": "sales_records.head()",
			"metadata": {
				"trusted": true,
				"tags": []
			},
			"execution_count": 8,
			"outputs": [
				{
					"name": "stdout",
					"text": "   ID                             Region  ...  Total_Cost Total_Profit\n0   1  Central America and the Caribbean  ...    87999.84     52914.72\n1   2  Central America and the Caribbean  ...   211152.48    119488.38\n2   3                             Europe  ...   151892.62     74823.48\n3   4                               Asia  ...  1055863.76    798727.44\n4   5                               Asia  ...   734892.48    415865.88\n\n[5 rows x 15 columns]\n",
					"output_type": "stream"
				}
			]
		},
		{
			"cell_type": "code",
			"source": "pd.set_option(\"display.max_columns\", None)",
			"metadata": {
				"trusted": true,
				"tags": []
			},
			"execution_count": 9,
			"outputs": [
				{
					"name": "stdout",
					"text": "\n",
					"output_type": "stream"
				}
			]
		},
		{
			"cell_type": "code",
			"source": "sales_records.head()",
			"metadata": {
				"trusted": true,
				"tags": []
			},
			"execution_count": 10,
			"outputs": [
				{
					"name": "stdout",
					"text": "   ID                             Region               Country  Item_Type  \\\n0   1  Central America and the Caribbean  Antigua and Barbuda   Baby Food   \n1   2  Central America and the Caribbean                Panama     Snacks   \n2   3                             Europe        Czech Republic  Beverages   \n3   4                               Asia           North Korea     Cereal   \n4   5                               Asia             Sri Lanka     Snacks   \n\n  Sales_Channel Order_Priority  Order_Date   Order_ID  Ship_Date  Units_Sold  \\\n0        Online              M  12/20/2013  957081544  1/11/2014         552   \n1       Offline              C    7/5/2010  301644504  7/26/2010        2167   \n2       Offline              C   9/12/2011  478051030  9/29/2011        4778   \n3       Offline              L   5/13/2010  892599952  6/15/2010        9016   \n4       Offline              C   7/20/2015  571902596  7/27/2015        7542   \n\n   Unit_Price  Unit_Cost  Total_Revenue  Total_Cost  Total_Profit  \n0      255.28     159.42      140914.56    87999.84      52914.72  \n1      152.58      97.44      330640.86   211152.48     119488.38  \n2       47.45      31.79      226716.10   151892.62      74823.48  \n3      205.70     117.11     1854591.20  1055863.76     798727.44  \n4      152.58      97.44     1150758.36   734892.48     415865.88\n",
					"output_type": "stream"
				}
			]
		},
		{
			"cell_type": "code",
			"source": "sales_records[\"Item_Type\"].value_counts()",
			"metadata": {
				"trusted": true,
				"tags": []
			},
			"execution_count": 12,
			"outputs": [
				{
					"name": "stdout",
					"text": "Beverages          447\nFruits             447\nBaby Food          445\nCosmetics          424\nHousehold          424\nOffice Supplies    420\nPersonal Care      415\nVegetables         410\nMeat               399\nSnacks             398\nClothes            386\nCereal             385\nName: Item_Type, dtype: int64\n",
					"output_type": "stream"
				}
			]
		},
		{
			"cell_type": "code",
			"source": "sales_records.groupby(\"Item_Type\", as_index=False)[\"Total_Revenue\"].mean().sort_values(by=\"Total_Revenue\", ascending=False)",
			"metadata": {
				"trusted": true,
				"tags": []
			},
			"execution_count": 13,
			"outputs": [
				{
					"name": "stdout",
					"text": "          Item_Type  Total_Revenue\n6         Household   3.308627e+06\n8   Office Supplies   3.267877e+06\n4         Cosmetics   2.208591e+06\n7              Meat   2.010266e+06\n0         Baby Food   1.305038e+06\n2            Cereal   1.041644e+06\n11       Vegetables   7.854542e+05\n10           Snacks   7.364764e+05\n3           Clothes   5.615308e+05\n9     Personal Care   4.204457e+05\n1         Beverages   2.344018e+05\n5            Fruits   4.886422e+04\n",
					"output_type": "stream"
				}
			]
		},
		{
			"cell_type": "code",
			"source": "import datetime as dt\nsales_records[\"Order_YearMonthth\"] = pd.to_datetime(sales_records[\"Order_Date\"]).dt.strftime(\"%Y/%m\")\nsales_records[\"Order_YearMonthth\"].value_counts()",
			"metadata": {
				"trusted": true,
				"tags": []
			},
			"execution_count": 21,
			"outputs": [
				{
					"name": "stdout",
					"text": "2010/01    70\n2015/01    66\n2014/08    65\n2012/01    65\n2016/06    64\n           ..\n2010/11    44\n2012/02    43\n2014/02    43\n2010/03    41\n2010/07    36\nName: Order_YearMonthth, Length: 91, dtype: int64\n",
					"output_type": "stream"
				}
			]
		},
		{
			"cell_type": "code",
			"source": "sales_records.drop(columns=[\"Order_YearMonthth\"], inplace=True)",
			"metadata": {
				"trusted": true,
				"tags": []
			},
			"execution_count": 22,
			"outputs": [
				{
					"name": "stdout",
					"text": "\n",
					"output_type": "stream"
				}
			]
		},
		{
			"cell_type": "code",
			"source": "sales_records[\"Order_Year\"] = pd.to_datetime(sales_records[\"Order_Date\"]).dt.year\nsales_records[\"Order_Year\"].value_counts().reset_index().sort_values(by=\"index\", ascending=True)",
			"metadata": {
				"trusted": true,
				"tags": []
			},
			"execution_count": 25,
			"outputs": [
				{
					"name": "stdout",
					"text": "   index  Order_Year\n6   2010         632\n5   2011         658\n1   2012         678\n3   2013         660\n4   2014         660\n0   2015         679\n2   2016         670\n7   2017         363\n",
					"output_type": "stream"
				}
			]
		},
		{
			"cell_type": "code",
			"source": "sales_records.groupby([\"Country\",\"Order_Year\"], as_index=False)[\"Units_Sold\"].sum().sort_values(by=\"Units_Sold\", ascending=False).reset_index()",
			"metadata": {
				"trusted": true,
				"tags": []
			},
			"execution_count": 29,
			"outputs": [
				{
					"name": "stdout",
					"text": "      index                Country  Order_Year  Units_Sold\n0       853                Myanmar        2016       61010\n1       998  Republic of the Congo        2011       58123\n2       729             Madagascar        2015       57552\n3       442                  Ghana        2013       55321\n4       997  Republic of the Congo        2010       55293\n...     ...                    ...         ...         ...\n1415    804               Moldova         2012         306\n1416   1181                  Spain        2016         245\n1417    474              Guatemala        2014         156\n1418    406                Finland        2016          54\n1419    832                Morocco        2010          48\n\n[1420 rows x 4 columns]\n",
					"output_type": "stream"
				}
			]
		},
		{
			"cell_type": "code",
			"source": "",
			"metadata": {},
			"execution_count": null,
			"outputs": []
		}
	]
}